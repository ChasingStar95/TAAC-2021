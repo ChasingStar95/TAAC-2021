{
 "cells": [
  {
   "cell_type": "code",
   "execution_count": null,
   "metadata": {},
   "outputs": [],
   "source": [
    "!./setup.sh"
   ]
  },
  {
   "cell_type": "code",
   "execution_count": null,
   "metadata": {
    "scrolled": true
   },
   "outputs": [
    {
     "name": "stdout",
     "output_type": "stream",
     "text": [
      "Some weights of the model checkpoint at ../pretrained/bert were not used when initializing BertModel: ['cls.predictions.transform.LayerNorm.bias', 'cls.seq_relationship.weight', 'cls.predictions.decoder.weight', 'cls.predictions.transform.dense.weight', 'cls.predictions.transform.dense.bias', 'cls.predictions.bias', 'cls.predictions.transform.LayerNorm.weight', 'cls.seq_relationship.bias']\n",
      "- This IS expected if you are initializing BertModel from the checkpoint of a model trained on another task or with another architecture (e.g. initializing a BertForSequenceClassification model from a BertForPreTraining model).\n",
      "- This IS NOT expected if you are initializing BertModel from the checkpoint of a model that you expect to be exactly identical (initializing a BertForSequenceClassification model from a BertForSequenceClassification model).\n",
      "initialization: Kaiming\n",
      "train (0): 100%|██████████████████████████████| 141/141 [02:09<00:00,  1.09it/s]\n",
      "2e-05\n",
      "epoch(0)(video):  0.6353479135408808\n",
      "epoch(0)(audio):  0.6330628712149815\n",
      "epoch(0)(text):  0.6755670371419729\n",
      "epoch(0)(fusion):  0.6693805814601457\n",
      "train (1): 100%|██████████████████████████████| 141/141 [02:09<00:00,  1.09it/s]\n",
      "4e-05\n",
      "train (2): 100%|██████████████████████████████| 141/141 [02:09<00:00,  1.09it/s]\n",
      "6e-05\n",
      "epoch(2)(video):  0.6943469122640747\n",
      "epoch(2)(audio):  0.6534292694236015\n",
      "epoch(2)(text):  0.7067836629340082\n",
      "epoch(2)(fusion):  0.7243733412132461\n",
      "train (3): 100%|██████████████████████████████| 141/141 [02:09<00:00,  1.09it/s]\n",
      "8e-05\n",
      "train (4): 100%|██████████████████████████████| 141/141 [02:09<00:00,  1.09it/s]\n",
      "0.0001\n",
      "epoch(4)(video):  0.7148908483105564\n",
      "epoch(4)(audio):  0.6584104596771313\n",
      "epoch(4)(text):  0.7156470808346292\n",
      "epoch(4)(fusion):  0.7477743553226754\n",
      "train (5):  55%|█████████████████▏             | 78/141 [01:19<00:50,  1.26it/s]"
     ]
    }
   ],
   "source": [
    "!python -W ignore main.py"
   ]
  },
  {
   "cell_type": "code",
   "execution_count": null,
   "metadata": {},
   "outputs": [],
   "source": [
    "!python inference.py"
   ]
  },
  {
   "cell_type": "code",
   "execution_count": null,
   "metadata": {},
   "outputs": [],
   "source": [
    "!python -W ignore end2end_main.py"
   ]
  },
  {
   "cell_type": "code",
   "execution_count": null,
   "metadata": {},
   "outputs": [],
   "source": [
    "!python -W ignore enhance_main.py"
   ]
  }
 ],
 "metadata": {
  "kernelspec": {
   "display_name": "conda_pytorch_py3",
   "language": "python",
   "name": "conda_pytorch_py3"
  },
  "language_info": {
   "codemirror_mode": {
    "name": "ipython",
    "version": 3
   },
   "file_extension": ".py",
   "mimetype": "text/x-python",
   "name": "python",
   "nbconvert_exporter": "python",
   "pygments_lexer": "ipython3",
   "version": "3.6.5"
  }
 },
 "nbformat": 4,
 "nbformat_minor": 4
}
