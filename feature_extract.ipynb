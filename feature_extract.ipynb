{
 "cells": [
  {
   "cell_type": "code",
   "execution_count": 9,
   "metadata": {},
   "outputs": [],
   "source": [
    "def frame_iterator(filename, every_ms=1000, max_num_frames=300):\n",
    "    \"\"\"Uses OpenCV to iterate over all frames of filename at a given frequency.\n",
    "\n",
    "    Args:\n",
    "      filename: Path to video file (e.g. mp4)\n",
    "      every_ms: The duration (in milliseconds) to skip between frames.\n",
    "      max_num_frames: Maximum number of frames to process, taken from the\n",
    "        beginning of the video.\n",
    "\n",
    "    Yields:\n",
    "      RGB frame with shape (image height, image width, channels)\n",
    "    \"\"\"\n",
    "    video_capture = cv2.VideoCapture()\n",
    "    if not video_capture.open(filename):\n",
    "        print(sys.stderr, 'Error: Cannot open video file ' + filename)\n",
    "        return\n",
    "    last_ts = -99999  # The timestamp of last retrieved frame.\n",
    "    num_retrieved = 0\n",
    "\n",
    "    while num_retrieved < max_num_frames:\n",
    "      # Skip frames\n",
    "        while video_capture.get(CAP_PROP_POS_MSEC) < every_ms + last_ts:\n",
    "            if not video_capture.read()[0]:\n",
    "                return\n",
    "      # mafp: CAP_PROP_POS_MSEC 指视频当前时间位置，以ms为单位\n",
    "        last_ts = video_capture.get(CAP_PROP_POS_MSEC)\n",
    "        has_frames, frame = video_capture.read()\n",
    "        if not has_frames:\n",
    "            break\n",
    "        yield frame\n",
    "        num_retrieved += 1\n",
    "        \n",
    "def frame_iterator_list(filename, every_ms=1000, max_num_frames=300):\n",
    "    video_capture = cv2.VideoCapture()\n",
    "    if not video_capture.open(filename):\n",
    "        print(sys.stderr, 'Error: Cannot open video file ' + filename)\n",
    "        return\n",
    "    last_ts = -99999  # The timestamp of last retrieved frame.\n",
    "    num_retrieved = 0\n",
    "\n",
    "    frame_all = []\n",
    "    while num_retrieved < max_num_frames:\n",
    "        # Skip frames\n",
    "        while video_capture.get(cv2.CAP_PROP_POS_MSEC) < every_ms + last_ts:\n",
    "            if not video_capture.read()[0]:\n",
    "                return frame_all\n",
    "\n",
    "        last_ts = video_capture.get(cv2.CAP_PROP_POS_MSEC)\n",
    "        has_frames, frame = video_capture.read()\n",
    "        if not has_frames:\n",
    "            break\n",
    "        frame_all.append(frame[:, :, ::-1])\n",
    "        num_retrieved += 1\n",
    "\n",
    "    return frame_all"
   ]
  },
  {
   "cell_type": "code",
   "execution_count": 3,
   "metadata": {},
   "outputs": [],
   "source": [
    "import os\n",
    "import cv2\n",
    "video_path = '/Users/mafp/code/datasets/video/'\n",
    "file_names = os.listdir(video_path)"
   ]
  },
  {
   "cell_type": "code",
   "execution_count": 15,
   "metadata": {},
   "outputs": [],
   "source": [
    "# every_ms 指的是每 every_ms 提取 1帧，every_ms=1000时，每秒提取 1帧\n",
    "frame_list = frame_iterator_list(video_path+file_names[0],every_ms=1000)"
   ]
  },
  {
   "cell_type": "code",
   "execution_count": null,
   "metadata": {},
   "outputs": [],
   "source": []
  }
 ],
 "metadata": {
  "kernelspec": {
   "display_name": "Python 3",
   "language": "python",
   "name": "python3"
  },
  "language_info": {
   "codemirror_mode": {
    "name": "ipython",
    "version": 3
   },
   "file_extension": ".py",
   "mimetype": "text/x-python",
   "name": "python",
   "nbconvert_exporter": "python",
   "pygments_lexer": "ipython3",
   "version": "3.8.5"
  }
 },
 "nbformat": 4,
 "nbformat_minor": 4
}
