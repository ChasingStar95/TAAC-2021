{
 "cells": [
  {
   "cell_type": "code",
   "execution_count": 6,
   "metadata": {},
   "outputs": [
    {
     "name": "stdout",
     "output_type": "stream",
     "text": [
      "Looking in indexes: http://mirrors.tencentyun.com/pypi/simple\n",
      "Collecting av\n",
      "  Downloading http://mirrors.tencentyun.com/pypi/packages/41/b7/4b1095af7f8e87c0f54fc0a3de9472d09583eaf2e904a60f0817819fff11/av-8.0.3-cp36-cp36m-manylinux2010_x86_64.whl (37.2 MB)\n",
      "\u001b[K     |████████████████████████████████| 37.2 MB 499 kB/s eta 0:00:01    |█▋                              | 1.9 MB 8.6 MB/s eta 0:00:05     |██████████████████████████████▊ | 35.8 MB 499 kB/s eta 0:00:03\n",
      "\u001b[?25hInstalling collected packages: av\n",
      "Successfully installed av-8.0.3\n"
     ]
    }
   ],
   "source": [
    "!pip install av\n",
    "!conda install -y -c conda-forge ipywidgets\n",
    "!jupyter nbextension enable --py widgetsnbextension"
   ]
  },
  {
   "cell_type": "code",
   "execution_count": 1,
   "metadata": {},
   "outputs": [],
   "source": [
    "import os\n",
    "import torch\n",
    "import torch.nn as nn\n",
    "import numpy as np\n",
    "from typing import Dict, Union\n",
    "from tqdm import tqdm\n",
    "import models.r21d.transforms.rgb_transforms as T\n",
    "from torchvision.models.video import r2plus1d_18\n",
    "from torchvision.transforms import Compose\n",
    "from torchvision.io.video import read_video\n",
    "from utils.utils import (action_on_extraction, form_list_from_user_input,\n",
    "                         form_slices, reencode_video_with_diff_fps, show_predictions_on_dataset)\n",
    "PRE_CENTRAL_CROP_SIZE = (128, 171)\n",
    "KINETICS_MEAN = [0.43216, 0.394666, 0.37645]\n",
    "KINETICS_STD = [0.22803, 0.22145, 0.216989]\n",
    "CENTRAL_CROP_MIN_SIDE_SIZE = 112\n",
    "DEFAULT_R21D_STEP_SIZE = 16\n",
    "DEFAULT_R21D_STACK_SIZE = 16\n",
    "class ExtractR21D(nn.Module):\n",
    "    \n",
    "    def __init__(self,video_path,output_path,\n",
    "                 step_size=None,stack_size=None):\n",
    "        super(ExtractR21D,self).__init__()\n",
    "        self.file_names_list = os.listdir(video_path)\n",
    "        self.file_path_list = [video_path+file_name for file_name in self.file_names_list]\n",
    "        self.step_size = step_size\n",
    "        self.stack_size = stack_size\n",
    "        self.on_extraction = 'save_numpy'\n",
    "        if self.step_size is None:\n",
    "            self.step_size = DEFAULT_R21D_STEP_SIZE\n",
    "        if self.stack_size is None:\n",
    "            self.stack_size = DEFAULT_R21D_STACK_SIZE\n",
    "        self.transforms = Compose([\n",
    "            T.ToFloatTensorInZeroOne(),\n",
    "            T.Resize(PRE_CENTRAL_CROP_SIZE),\n",
    "            T.Normalize(mean=KINETICS_MEAN, std=KINETICS_STD),\n",
    "            T.CenterCrop((CENTRAL_CROP_MIN_SIDE_SIZE, CENTRAL_CROP_MIN_SIDE_SIZE))\n",
    "        ])\n",
    "        self.show_pred = False\n",
    "        self.output_path = output_path\n",
    "        self.extraction_fps = None\n",
    "        self.feature_type = 'r21d_rgb'\n",
    "        self.model = r2plus1d_18(pretrained=True)\n",
    "        self.model_class = self.model.fc\n",
    "        self.model.fc = torch.nn.Identity()\n",
    "    def forward(self,indices):\n",
    "        device = indices.device\n",
    "        for idx in tqdm(indices):\n",
    "            if idx == 36:\n",
    "                continue\n",
    "            if(os.path.exists(self.output_path+self.file_names_list[idx].strip('.mp4')+'.npy')):\n",
    "                print(self.output_path+self.file_names_list[idx].strip('.mp4')+'.npy',' alread exists')\n",
    "                continue\n",
    "                \n",
    "            feats_dict = self.extract(device, self.model, self.model_class, self.file_path_list[idx])\n",
    "            action_on_extraction(feats_dict, self.file_path_list[idx], self.output_path, self.on_extraction)\n",
    "    def extract(self, device: torch.device, model: torch.nn.Module, classifier: torch.nn.Module,\n",
    "                video_path: Union[str, None] = None\n",
    "                ) -> Dict[str, np.ndarray]:\n",
    "        # take the video, change fps and save to the tmp folder\n",
    "        if self.extraction_fps is not None:\n",
    "            video_path = reencode_video_with_diff_fps(video_path, self.tmp_path, self.extraction_fps)\n",
    "\n",
    "        # read a video\n",
    "        rgb, audio, info = read_video(video_path, pts_unit='sec')\n",
    "        # prepare data (first -- transform, then -- unsqueeze)\n",
    "        # mafp: 这一步 爆了\n",
    "        rgb = self.transforms(rgb)\n",
    "        rgb = rgb.unsqueeze(0)\n",
    "        # slice the\n",
    "        slices = form_slices(rgb.size(2), self.stack_size, self.step_size)\n",
    "\n",
    "        vid_feats = []\n",
    "\n",
    "        for stack_idx, (start_idx, end_idx) in enumerate(slices):\n",
    "            # inference\n",
    "            with torch.no_grad():\n",
    "                output = model(rgb[:, :, start_idx:end_idx, :, :].to(device))\n",
    "                vid_feats.extend(output.tolist())\n",
    "\n",
    "                # show predicitons on kinetics dataset (might be useful for debugging)\n",
    "                if self.show_pred:\n",
    "                    logits = classifier(output)\n",
    "                    print(f'{video_path} @ frames ({start_idx}, {end_idx})')\n",
    "                    show_predictions_on_dataset(logits, 'kinetics')\n",
    "\n",
    "        feats_dict = {\n",
    "            self.feature_type: np.array(vid_feats),\n",
    "        }\n",
    "\n",
    "        return feats_dict"
   ]
  },
  {
   "cell_type": "code",
   "execution_count": 2,
   "metadata": {},
   "outputs": [],
   "source": [
    "video_path = '/home/tione/notebook/dataset/videos/video_5k/train_5k/'\n",
    "# video_path = './extractor_test/'\n",
    "output_path = '/home/tione/notebook/dataset/r21d/'\n",
    "extractor = ExtractR21D(video_path=video_path,output_path=output_path)"
   ]
  },
  {
   "cell_type": "code",
   "execution_count": 3,
   "metadata": {
    "scrolled": true
   },
   "outputs": [
    {
     "data": {
      "text/plain": [
       "ExtractR21D(\n",
       "  (model): VideoResNet(\n",
       "    (stem): R2Plus1dStem(\n",
       "      (0): Conv3d(3, 45, kernel_size=(1, 7, 7), stride=(1, 2, 2), padding=(0, 3, 3), bias=False)\n",
       "      (1): BatchNorm3d(45, eps=1e-05, momentum=0.1, affine=True, track_running_stats=True)\n",
       "      (2): ReLU(inplace=True)\n",
       "      (3): Conv3d(45, 64, kernel_size=(3, 1, 1), stride=(1, 1, 1), padding=(1, 0, 0), bias=False)\n",
       "      (4): BatchNorm3d(64, eps=1e-05, momentum=0.1, affine=True, track_running_stats=True)\n",
       "      (5): ReLU(inplace=True)\n",
       "    )\n",
       "    (layer1): Sequential(\n",
       "      (0): BasicBlock(\n",
       "        (conv1): Sequential(\n",
       "          (0): Conv2Plus1D(\n",
       "            (0): Conv3d(64, 144, kernel_size=(1, 3, 3), stride=(1, 1, 1), padding=(0, 1, 1), bias=False)\n",
       "            (1): BatchNorm3d(144, eps=1e-05, momentum=0.1, affine=True, track_running_stats=True)\n",
       "            (2): ReLU(inplace=True)\n",
       "            (3): Conv3d(144, 64, kernel_size=(3, 1, 1), stride=(1, 1, 1), padding=(1, 0, 0), bias=False)\n",
       "          )\n",
       "          (1): BatchNorm3d(64, eps=1e-05, momentum=0.1, affine=True, track_running_stats=True)\n",
       "          (2): ReLU(inplace=True)\n",
       "        )\n",
       "        (conv2): Sequential(\n",
       "          (0): Conv2Plus1D(\n",
       "            (0): Conv3d(64, 144, kernel_size=(1, 3, 3), stride=(1, 1, 1), padding=(0, 1, 1), bias=False)\n",
       "            (1): BatchNorm3d(144, eps=1e-05, momentum=0.1, affine=True, track_running_stats=True)\n",
       "            (2): ReLU(inplace=True)\n",
       "            (3): Conv3d(144, 64, kernel_size=(3, 1, 1), stride=(1, 1, 1), padding=(1, 0, 0), bias=False)\n",
       "          )\n",
       "          (1): BatchNorm3d(64, eps=1e-05, momentum=0.1, affine=True, track_running_stats=True)\n",
       "        )\n",
       "        (relu): ReLU(inplace=True)\n",
       "      )\n",
       "      (1): BasicBlock(\n",
       "        (conv1): Sequential(\n",
       "          (0): Conv2Plus1D(\n",
       "            (0): Conv3d(64, 144, kernel_size=(1, 3, 3), stride=(1, 1, 1), padding=(0, 1, 1), bias=False)\n",
       "            (1): BatchNorm3d(144, eps=1e-05, momentum=0.1, affine=True, track_running_stats=True)\n",
       "            (2): ReLU(inplace=True)\n",
       "            (3): Conv3d(144, 64, kernel_size=(3, 1, 1), stride=(1, 1, 1), padding=(1, 0, 0), bias=False)\n",
       "          )\n",
       "          (1): BatchNorm3d(64, eps=1e-05, momentum=0.1, affine=True, track_running_stats=True)\n",
       "          (2): ReLU(inplace=True)\n",
       "        )\n",
       "        (conv2): Sequential(\n",
       "          (0): Conv2Plus1D(\n",
       "            (0): Conv3d(64, 144, kernel_size=(1, 3, 3), stride=(1, 1, 1), padding=(0, 1, 1), bias=False)\n",
       "            (1): BatchNorm3d(144, eps=1e-05, momentum=0.1, affine=True, track_running_stats=True)\n",
       "            (2): ReLU(inplace=True)\n",
       "            (3): Conv3d(144, 64, kernel_size=(3, 1, 1), stride=(1, 1, 1), padding=(1, 0, 0), bias=False)\n",
       "          )\n",
       "          (1): BatchNorm3d(64, eps=1e-05, momentum=0.1, affine=True, track_running_stats=True)\n",
       "        )\n",
       "        (relu): ReLU(inplace=True)\n",
       "      )\n",
       "    )\n",
       "    (layer2): Sequential(\n",
       "      (0): BasicBlock(\n",
       "        (conv1): Sequential(\n",
       "          (0): Conv2Plus1D(\n",
       "            (0): Conv3d(64, 230, kernel_size=(1, 3, 3), stride=(1, 2, 2), padding=(0, 1, 1), bias=False)\n",
       "            (1): BatchNorm3d(230, eps=1e-05, momentum=0.1, affine=True, track_running_stats=True)\n",
       "            (2): ReLU(inplace=True)\n",
       "            (3): Conv3d(230, 128, kernel_size=(3, 1, 1), stride=(2, 1, 1), padding=(1, 0, 0), bias=False)\n",
       "          )\n",
       "          (1): BatchNorm3d(128, eps=1e-05, momentum=0.1, affine=True, track_running_stats=True)\n",
       "          (2): ReLU(inplace=True)\n",
       "        )\n",
       "        (conv2): Sequential(\n",
       "          (0): Conv2Plus1D(\n",
       "            (0): Conv3d(128, 230, kernel_size=(1, 3, 3), stride=(1, 1, 1), padding=(0, 1, 1), bias=False)\n",
       "            (1): BatchNorm3d(230, eps=1e-05, momentum=0.1, affine=True, track_running_stats=True)\n",
       "            (2): ReLU(inplace=True)\n",
       "            (3): Conv3d(230, 128, kernel_size=(3, 1, 1), stride=(1, 1, 1), padding=(1, 0, 0), bias=False)\n",
       "          )\n",
       "          (1): BatchNorm3d(128, eps=1e-05, momentum=0.1, affine=True, track_running_stats=True)\n",
       "        )\n",
       "        (relu): ReLU(inplace=True)\n",
       "        (downsample): Sequential(\n",
       "          (0): Conv3d(64, 128, kernel_size=(1, 1, 1), stride=(2, 2, 2), bias=False)\n",
       "          (1): BatchNorm3d(128, eps=1e-05, momentum=0.1, affine=True, track_running_stats=True)\n",
       "        )\n",
       "      )\n",
       "      (1): BasicBlock(\n",
       "        (conv1): Sequential(\n",
       "          (0): Conv2Plus1D(\n",
       "            (0): Conv3d(128, 288, kernel_size=(1, 3, 3), stride=(1, 1, 1), padding=(0, 1, 1), bias=False)\n",
       "            (1): BatchNorm3d(288, eps=1e-05, momentum=0.1, affine=True, track_running_stats=True)\n",
       "            (2): ReLU(inplace=True)\n",
       "            (3): Conv3d(288, 128, kernel_size=(3, 1, 1), stride=(1, 1, 1), padding=(1, 0, 0), bias=False)\n",
       "          )\n",
       "          (1): BatchNorm3d(128, eps=1e-05, momentum=0.1, affine=True, track_running_stats=True)\n",
       "          (2): ReLU(inplace=True)\n",
       "        )\n",
       "        (conv2): Sequential(\n",
       "          (0): Conv2Plus1D(\n",
       "            (0): Conv3d(128, 288, kernel_size=(1, 3, 3), stride=(1, 1, 1), padding=(0, 1, 1), bias=False)\n",
       "            (1): BatchNorm3d(288, eps=1e-05, momentum=0.1, affine=True, track_running_stats=True)\n",
       "            (2): ReLU(inplace=True)\n",
       "            (3): Conv3d(288, 128, kernel_size=(3, 1, 1), stride=(1, 1, 1), padding=(1, 0, 0), bias=False)\n",
       "          )\n",
       "          (1): BatchNorm3d(128, eps=1e-05, momentum=0.1, affine=True, track_running_stats=True)\n",
       "        )\n",
       "        (relu): ReLU(inplace=True)\n",
       "      )\n",
       "    )\n",
       "    (layer3): Sequential(\n",
       "      (0): BasicBlock(\n",
       "        (conv1): Sequential(\n",
       "          (0): Conv2Plus1D(\n",
       "            (0): Conv3d(128, 460, kernel_size=(1, 3, 3), stride=(1, 2, 2), padding=(0, 1, 1), bias=False)\n",
       "            (1): BatchNorm3d(460, eps=1e-05, momentum=0.1, affine=True, track_running_stats=True)\n",
       "            (2): ReLU(inplace=True)\n",
       "            (3): Conv3d(460, 256, kernel_size=(3, 1, 1), stride=(2, 1, 1), padding=(1, 0, 0), bias=False)\n",
       "          )\n",
       "          (1): BatchNorm3d(256, eps=1e-05, momentum=0.1, affine=True, track_running_stats=True)\n",
       "          (2): ReLU(inplace=True)\n",
       "        )\n",
       "        (conv2): Sequential(\n",
       "          (0): Conv2Plus1D(\n",
       "            (0): Conv3d(256, 460, kernel_size=(1, 3, 3), stride=(1, 1, 1), padding=(0, 1, 1), bias=False)\n",
       "            (1): BatchNorm3d(460, eps=1e-05, momentum=0.1, affine=True, track_running_stats=True)\n",
       "            (2): ReLU(inplace=True)\n",
       "            (3): Conv3d(460, 256, kernel_size=(3, 1, 1), stride=(1, 1, 1), padding=(1, 0, 0), bias=False)\n",
       "          )\n",
       "          (1): BatchNorm3d(256, eps=1e-05, momentum=0.1, affine=True, track_running_stats=True)\n",
       "        )\n",
       "        (relu): ReLU(inplace=True)\n",
       "        (downsample): Sequential(\n",
       "          (0): Conv3d(128, 256, kernel_size=(1, 1, 1), stride=(2, 2, 2), bias=False)\n",
       "          (1): BatchNorm3d(256, eps=1e-05, momentum=0.1, affine=True, track_running_stats=True)\n",
       "        )\n",
       "      )\n",
       "      (1): BasicBlock(\n",
       "        (conv1): Sequential(\n",
       "          (0): Conv2Plus1D(\n",
       "            (0): Conv3d(256, 576, kernel_size=(1, 3, 3), stride=(1, 1, 1), padding=(0, 1, 1), bias=False)\n",
       "            (1): BatchNorm3d(576, eps=1e-05, momentum=0.1, affine=True, track_running_stats=True)\n",
       "            (2): ReLU(inplace=True)\n",
       "            (3): Conv3d(576, 256, kernel_size=(3, 1, 1), stride=(1, 1, 1), padding=(1, 0, 0), bias=False)\n",
       "          )\n",
       "          (1): BatchNorm3d(256, eps=1e-05, momentum=0.1, affine=True, track_running_stats=True)\n",
       "          (2): ReLU(inplace=True)\n",
       "        )\n",
       "        (conv2): Sequential(\n",
       "          (0): Conv2Plus1D(\n",
       "            (0): Conv3d(256, 576, kernel_size=(1, 3, 3), stride=(1, 1, 1), padding=(0, 1, 1), bias=False)\n",
       "            (1): BatchNorm3d(576, eps=1e-05, momentum=0.1, affine=True, track_running_stats=True)\n",
       "            (2): ReLU(inplace=True)\n",
       "            (3): Conv3d(576, 256, kernel_size=(3, 1, 1), stride=(1, 1, 1), padding=(1, 0, 0), bias=False)\n",
       "          )\n",
       "          (1): BatchNorm3d(256, eps=1e-05, momentum=0.1, affine=True, track_running_stats=True)\n",
       "        )\n",
       "        (relu): ReLU(inplace=True)\n",
       "      )\n",
       "    )\n",
       "    (layer4): Sequential(\n",
       "      (0): BasicBlock(\n",
       "        (conv1): Sequential(\n",
       "          (0): Conv2Plus1D(\n",
       "            (0): Conv3d(256, 921, kernel_size=(1, 3, 3), stride=(1, 2, 2), padding=(0, 1, 1), bias=False)\n",
       "            (1): BatchNorm3d(921, eps=1e-05, momentum=0.1, affine=True, track_running_stats=True)\n",
       "            (2): ReLU(inplace=True)\n",
       "            (3): Conv3d(921, 512, kernel_size=(3, 1, 1), stride=(2, 1, 1), padding=(1, 0, 0), bias=False)\n",
       "          )\n",
       "          (1): BatchNorm3d(512, eps=1e-05, momentum=0.1, affine=True, track_running_stats=True)\n",
       "          (2): ReLU(inplace=True)\n",
       "        )\n",
       "        (conv2): Sequential(\n",
       "          (0): Conv2Plus1D(\n",
       "            (0): Conv3d(512, 921, kernel_size=(1, 3, 3), stride=(1, 1, 1), padding=(0, 1, 1), bias=False)\n",
       "            (1): BatchNorm3d(921, eps=1e-05, momentum=0.1, affine=True, track_running_stats=True)\n",
       "            (2): ReLU(inplace=True)\n",
       "            (3): Conv3d(921, 512, kernel_size=(3, 1, 1), stride=(1, 1, 1), padding=(1, 0, 0), bias=False)\n",
       "          )\n",
       "          (1): BatchNorm3d(512, eps=1e-05, momentum=0.1, affine=True, track_running_stats=True)\n",
       "        )\n",
       "        (relu): ReLU(inplace=True)\n",
       "        (downsample): Sequential(\n",
       "          (0): Conv3d(256, 512, kernel_size=(1, 1, 1), stride=(2, 2, 2), bias=False)\n",
       "          (1): BatchNorm3d(512, eps=1e-05, momentum=0.1, affine=True, track_running_stats=True)\n",
       "        )\n",
       "      )\n",
       "      (1): BasicBlock(\n",
       "        (conv1): Sequential(\n",
       "          (0): Conv2Plus1D(\n",
       "            (0): Conv3d(512, 1152, kernel_size=(1, 3, 3), stride=(1, 1, 1), padding=(0, 1, 1), bias=False)\n",
       "            (1): BatchNorm3d(1152, eps=1e-05, momentum=0.1, affine=True, track_running_stats=True)\n",
       "            (2): ReLU(inplace=True)\n",
       "            (3): Conv3d(1152, 512, kernel_size=(3, 1, 1), stride=(1, 1, 1), padding=(1, 0, 0), bias=False)\n",
       "          )\n",
       "          (1): BatchNorm3d(512, eps=1e-05, momentum=0.1, affine=True, track_running_stats=True)\n",
       "          (2): ReLU(inplace=True)\n",
       "        )\n",
       "        (conv2): Sequential(\n",
       "          (0): Conv2Plus1D(\n",
       "            (0): Conv3d(512, 1152, kernel_size=(1, 3, 3), stride=(1, 1, 1), padding=(0, 1, 1), bias=False)\n",
       "            (1): BatchNorm3d(1152, eps=1e-05, momentum=0.1, affine=True, track_running_stats=True)\n",
       "            (2): ReLU(inplace=True)\n",
       "            (3): Conv3d(1152, 512, kernel_size=(3, 1, 1), stride=(1, 1, 1), padding=(1, 0, 0), bias=False)\n",
       "          )\n",
       "          (1): BatchNorm3d(512, eps=1e-05, momentum=0.1, affine=True, track_running_stats=True)\n",
       "        )\n",
       "        (relu): ReLU(inplace=True)\n",
       "      )\n",
       "    )\n",
       "    (avgpool): AdaptiveAvgPool3d(output_size=(1, 1, 1))\n",
       "    (fc): Identity()\n",
       "  )\n",
       "  (model_class): Linear(in_features=512, out_features=400, bias=True)\n",
       ")"
      ]
     },
     "execution_count": 3,
     "metadata": {},
     "output_type": "execute_result"
    }
   ],
   "source": [
    "indices = torch.arange(len(extractor.file_path_list)).to('cuda')\n",
    "extractor.to('cuda')"
   ]
  },
  {
   "cell_type": "code",
   "execution_count": 4,
   "metadata": {},
   "outputs": [
    {
     "data": {
      "text/plain": [
       "'/home/tione/notebook/dataset/videos/video_5k/train_5k/bbb760adf099faa1515f3a1400363465.mp4'"
      ]
     },
     "execution_count": 4,
     "metadata": {},
     "output_type": "execute_result"
    }
   ],
   "source": [
    "extractor.file_path_list[35]"
   ]
  },
  {
   "cell_type": "code",
   "execution_count": null,
   "metadata": {
    "scrolled": true
   },
   "outputs": [
    {
     "name": "stderr",
     "output_type": "stream",
     "text": [
      "  0%|          | 1/5000 [00:27<37:46:58, 27.21s/it]"
     ]
    },
    {
     "name": "stdout",
     "output_type": "stream",
     "text": [
      "/home/tione/notebook/dataset/r21d/3cacaddece4c28adeb2c4af9dbd0e89c.npy  alread exists\n",
      "/home/tione/notebook/dataset/r21d/d6003f9a5fb29ca73cc64d9895f0d1ae.npy  alread exists\n",
      "/home/tione/notebook/dataset/r21d/035bb046761f754705902e6e3c6133e7.npy  alread exists\n",
      "/home/tione/notebook/dataset/r21d/983f03fbaa0022b18ca8a687c9fbd535.npy  alread exists\n",
      "/home/tione/notebook/dataset/r21d/5d4596503b99ee8f1342543a71b5627f.npy  alread exists\n",
      "/home/tione/notebook/dataset/r21d/c2906db45588e9648f37770e6e3f2577.npy  alread exists\n"
     ]
    },
    {
     "name": "stderr",
     "output_type": "stream",
     "text": [
      "  0%|          | 8/5000 [00:33<26:45:50, 19.30s/it]"
     ]
    },
    {
     "name": "stdout",
     "output_type": "stream",
     "text": [
      "/home/tione/notebook/dataset/r21d/a5ef52e90254ba404d388f520d1c084e.npy  alread exists\n",
      "/home/tione/notebook/dataset/r21d/aa19531cb0524686eefcca8005e4bdb8.npy  alread exists\n",
      "/home/tione/notebook/dataset/r21d/02d1949d6153d625a78721cf75130d5f.npy  alread exists\n",
      "/home/tione/notebook/dataset/r21d/0015c7e3437265d2f49b0263675bdf52.npy  alread exists\n",
      "/home/tione/notebook/dataset/r21d/64034291d857f775a248daf152fe4813.npy  alread exists\n",
      "/home/tione/notebook/dataset/r21d/050d3d2583b4bf4c5ee28952df022cbe.npy  alread exists\n",
      "/home/tione/notebook/dataset/r21d/ec242567405100af68e9ae00aa53fa23.npy  alread exists\n",
      "/home/tione/notebook/dataset/r21d/569661cce63d3e3e8ec552ad643122d7.npy  alread exists\n",
      "/home/tione/notebook/dataset/r21d/90eef2b2560c92a0ab34d66ec1b842a9.npy  alread exists\n",
      "/home/tione/notebook/dataset/r21d/85de53f21dee3db750dcf83ffa1fd93b.npy  alread exists\n",
      "/home/tione/notebook/dataset/r21d/30915e8ffa54212794bc4843e13a0e3f.npy  alread exists\n",
      "/home/tione/notebook/dataset/r21d/2b59602855f68ff5d6d40e4062432e81.npy  alread exists\n",
      "/home/tione/notebook/dataset/r21d/c69f71735984282be17e1e81ad2e0c07.npy  alread exists\n",
      "/home/tione/notebook/dataset/r21d/1924363fae0e3f93264a634e9b9ab7dc.npy  alread exists\n",
      "/home/tione/notebook/dataset/r21d/7dc585539e45645e2cb0b752b32ba9e5.npy  alread exists\n"
     ]
    },
    {
     "name": "stderr",
     "output_type": "stream",
     "text": [
      "  0%|          | 24/5000 [00:53<19:11:29, 13.88s/it]"
     ]
    },
    {
     "name": "stdout",
     "output_type": "stream",
     "text": [
      "/home/tione/notebook/dataset/r21d/cd648426ded2af9e4c3761adf3a6b507.npy  alread exists\n",
      "/home/tione/notebook/dataset/r21d/ed39314ca9ce1a3498bc029966ba23a8.npy  alread exists\n",
      "/home/tione/notebook/dataset/r21d/7c56c996c8fea236b30e5b7b3f42ee16.npy  alread exists\n",
      "/home/tione/notebook/dataset/r21d/c271d20ac0fc5d22bd0a3a7410ff670b.npy  alread exists\n",
      "/home/tione/notebook/dataset/r21d/73e4fe01ec576541a9d130e49d8ac599.npy  alread exists\n",
      "/home/tione/notebook/dataset/r21d/b0154c94c989a90e673c910406dadf69.npy  alread exists\n",
      "/home/tione/notebook/dataset/r21d/fe770d133b6d2ecc985f998bdf89691b.npy  alread exists\n",
      "/home/tione/notebook/dataset/r21d/e8c560d99cbc3857d3a37630ab6151f5.npy  alread exists\n",
      "/home/tione/notebook/dataset/r21d/09ffa72f6fa2f793bfbce98628ff00f5.npy  alread exists\n",
      "/home/tione/notebook/dataset/r21d/a4a71f753d0f8c55b70c9fd2ea5d3a40.npy  alread exists\n"
     ]
    },
    {
     "name": "stderr",
     "output_type": "stream",
     "text": [
      "  1%|          | 35/5000 [01:21<14:28:18, 10.49s/it]"
     ]
    },
    {
     "name": "stdout",
     "output_type": "stream",
     "text": [
      "/home/tione/notebook/dataset/r21d/bbb760adf099faa1515f3a1400363465.npy  alread exists\n"
     ]
    },
    {
     "name": "stderr",
     "output_type": "stream",
     "text": [
      "  1%|          | 39/5000 [01:46<10:16:54,  7.46s/it]"
     ]
    }
   ],
   "source": [
    "extractor(indices)"
   ]
  },
  {
   "cell_type": "code",
   "execution_count": 7,
   "metadata": {},
   "outputs": [],
   "source": [
    "rgb, audio, info = read_video(extractor.file_path_list[0], pts_unit='sec')"
   ]
  },
  {
   "cell_type": "code",
   "execution_count": null,
   "metadata": {},
   "outputs": [],
   "source": [
    "rgb = extractor.transforms(rgb)"
   ]
  },
  {
   "cell_type": "code",
   "execution_count": null,
   "metadata": {},
   "outputs": [],
   "source": []
  }
 ],
 "metadata": {
  "kernelspec": {
   "display_name": "conda_pytorch_py3",
   "language": "python",
   "name": "conda_pytorch_py3"
  },
  "language_info": {
   "codemirror_mode": {
    "name": "ipython",
    "version": 3
   },
   "file_extension": ".py",
   "mimetype": "text/x-python",
   "name": "python",
   "nbconvert_exporter": "python",
   "pygments_lexer": "ipython3",
   "version": "3.6.5"
  }
 },
 "nbformat": 4,
 "nbformat_minor": 4
}
